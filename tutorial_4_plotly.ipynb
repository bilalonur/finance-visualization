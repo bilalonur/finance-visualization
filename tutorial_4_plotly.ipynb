{
 "cells": [
  {
   "cell_type": "markdown",
   "metadata": {},
   "source": [
    "<div>\n",
    "\n",
    "  <h1 style='font-family: \"Open Sans\", sans-serif;'>Tutorial 4: Interactive Financial Data Visualization with Plotly</h1>\n",
    "  <hr style='background-color:White;'/>\n",
    "  <span style='color:#33FF77;'>\n",
    "    Prepared by <b>Bilal Onur Eskili</b> <br/>\n",
    "    <a href='https://bilalonureskili.com'>Personal HomePage</a> | <a href='https://github.com/bilalonur'>GitHub</a> | <a href='https://www.linkedin.com/in/bilal-onur-eskili'>LinkedIn</a><br/>\n",
    "  </span>\n",
    "\n",
    "</div>\n"
   ]
  },
  {
   "cell_type": "markdown",
   "metadata": {},
   "source": [
    "In the previous tutorials, we explored various methods of plotting and analyzing stock data using the **Matplotlib** library, **mplfinance**, and some other functionalities in Python. This time, we will continue our series by making our charts **interactive** with the **Plotly** library. Plotly is a powerful data visualization tool that allows you to create interactive charts effortlessly, which can be especially useful for exploring financial data.\n",
    "\n",
    "We'll revisit the Yahoo Finance data for a particular stock and create different types of interactive visualizations, including line plots, candlestick charts, histograms, and correlation heatmaps. Let's get started!"
   ]
  },
  {
   "cell_type": "markdown",
   "metadata": {},
   "source": [
    "## 1. Installing and Importing Required Libraries\n",
    "\n",
    "Before we begin, make sure to install Plotly (if you haven't already):\n"
   ]
  },
  {
   "cell_type": "code",
   "execution_count": null,
   "metadata": {},
   "outputs": [],
   "source": [
    "pip install plotly yfinance pandas"
   ]
  },
  {
   "cell_type": "code",
   "execution_count": 3,
   "metadata": {},
   "outputs": [],
   "source": [
    "import yfinance as yf\n",
    "import pandas as pd\n",
    "\n",
    "import plotly.express as px\n",
    "\n",
    "import plotly.graph_objects as go"
   ]
  }
 ],
 "metadata": {
  "kernelspec": {
   "display_name": ".venv",
   "language": "python",
   "name": "python3"
  },
  "language_info": {
   "codemirror_mode": {
    "name": "ipython",
    "version": 3
   },
   "file_extension": ".py",
   "mimetype": "text/x-python",
   "name": "python",
   "nbconvert_exporter": "python",
   "pygments_lexer": "ipython3",
   "version": "3.12.0"
  }
 },
 "nbformat": 4,
 "nbformat_minor": 2
}
