{
 "cells": [
  {
   "cell_type": "markdown",
   "id": "78c6c1c7-00b3-4d50-8dd9-13aa757e061d",
   "metadata": {},
   "source": [
    "<div>\n",
    "  <h1 style='font-family: \"Open Sans\", sans-serif;'>Visualizing Financial Data Using Python</h1>\n",
    "    <hr style='background-color:White;'/>\n",
    "  <span style='color:#33FF77;'>\n",
    "      ### Prepared by <b>Bilal Onur Eskili</b> (<a href='mailto:onur@bilalonureskili.com'>onur@bilalonureskili.com</a>) on 16.01.2023<br/>\n",
    "      ### <a href='https://bilalonureskili.com'>Personal HomePage</a> | <a href='https://github.com/bilalonur'>GitHub</a> | <a href='https://www.linkedin.com/in/bilal-onur-eskili'>LinkedIn</a><br/>\n",
    "\n",
    "</div>"
   ]
  },
  {
   "cell_type": "markdown",
   "id": "dfba7573-924d-4126-9dfa-2c7686aaab05",
   "metadata": {},
   "source": [
    "<h2>Tutorial 1: Acquiring Data Using Yahoo Finance</h2>\n",
    "In this tutorial, we'll get stock data from Yahoo using Yahoo Finance Python library (<i>yfinance</i>).<br/>\n",
    "For installing <i>yfinance</i> via pip: <br/><code style='background-color:#CCCFD1;color:#000;'>pip install yfinance</code><br/>\n",
    "Detailed information on PyPi <a href='https://pypi.org/project/yfinance/'>Yahoo! Finance</a>"
   ]
  },
  {
   "cell_type": "markdown",
   "id": "62c62c99-51e5-4a37-9b1b-ab866f24ce44",
   "metadata": {
    "tags": []
   },
   "source": [
    "<h3> Importing required libraries </h3>"
   ]
  },
  {
   "cell_type": "code",
   "execution_count": 38,
   "id": "c629bbde-d575-494b-b6b4-f0fe4e20e5e1",
   "metadata": {},
   "outputs": [],
   "source": [
    "import yfinance as yf\n",
    "import matplotlib.pyplot as plt"
   ]
  },
  {
   "cell_type": "code",
   "execution_count": 7,
   "id": "e935a86e-1ff3-495c-9aeb-69c4abb6c46d",
   "metadata": {},
   "outputs": [],
   "source": [
    "# Assign ticker symbol and data interval\n",
    "symbol = 'AAPL'\n",
    "startDate = '2019-01-01'\n",
    "endDate = '2023-01-01'"
   ]
  },
  {
   "cell_type": "markdown",
   "id": "af13be41-49a8-4536-b59f-510ad1dbe4c4",
   "metadata": {},
   "source": [
    "Now, get data from Yahoo! for <i>AAPL</i> (Apple Inc.) stock in the time range from 2019-01 to 2023-01 with intervals of 3 months<br/>\n",
    "Valid interval options: [1m, 2m, 5m, 15m, 30m, 60m, 90m, 1h, 1d, 5d, 1wk, 1mo, 3mo] <br/>"
   ]
  },
  {
   "cell_type": "code",
   "execution_count": 21,
   "id": "3b22033b-ed67-43ce-9d9d-4f8e149ea2cd",
   "metadata": {},
   "outputs": [
    {
     "name": "stdout",
     "output_type": "stream",
     "text": [
      "[*********************100%***********************]  1 of 1 completed\n"
     ]
    }
   ],
   "source": [
    "data = yf.download(symbol, start=startDate, end=endDate, interval='3mo')"
   ]
  },
  {
   "cell_type": "code",
   "execution_count": 19,
   "id": "5703f9e2-62b1-48d6-8edd-e2816390f0b4",
   "metadata": {},
   "outputs": [
    {
     "data": {
      "text/html": [
       "<div>\n",
       "<style scoped>\n",
       "    .dataframe tbody tr th:only-of-type {\n",
       "        vertical-align: middle;\n",
       "    }\n",
       "\n",
       "    .dataframe tbody tr th {\n",
       "        vertical-align: top;\n",
       "    }\n",
       "\n",
       "    .dataframe thead th {\n",
       "        text-align: right;\n",
       "    }\n",
       "</style>\n",
       "<table border=\"1\" class=\"dataframe\">\n",
       "  <thead>\n",
       "    <tr style=\"text-align: right;\">\n",
       "      <th></th>\n",
       "      <th>Open</th>\n",
       "      <th>High</th>\n",
       "      <th>Low</th>\n",
       "      <th>Close</th>\n",
       "      <th>Adj Close</th>\n",
       "      <th>Volume</th>\n",
       "    </tr>\n",
       "    <tr>\n",
       "      <th>Date</th>\n",
       "      <th></th>\n",
       "      <th></th>\n",
       "      <th></th>\n",
       "      <th></th>\n",
       "      <th></th>\n",
       "      <th></th>\n",
       "    </tr>\n",
       "  </thead>\n",
       "  <tbody>\n",
       "    <tr>\n",
       "      <th>2019-01-01 00:00:00-05:00</th>\n",
       "      <td>38.722500</td>\n",
       "      <td>49.422501</td>\n",
       "      <td>35.500000</td>\n",
       "      <td>47.487499</td>\n",
       "      <td>45.833786</td>\n",
       "      <td>7806437600</td>\n",
       "    </tr>\n",
       "    <tr>\n",
       "      <th>2019-04-01 00:00:00-04:00</th>\n",
       "      <td>47.910000</td>\n",
       "      <td>53.827499</td>\n",
       "      <td>42.567501</td>\n",
       "      <td>49.480000</td>\n",
       "      <td>47.961716</td>\n",
       "      <td>7043172000</td>\n",
       "    </tr>\n",
       "    <tr>\n",
       "      <th>2019-07-01 00:00:00-04:00</th>\n",
       "      <td>50.792500</td>\n",
       "      <td>56.605000</td>\n",
       "      <td>48.145000</td>\n",
       "      <td>55.992500</td>\n",
       "      <td>54.483391</td>\n",
       "      <td>6790001600</td>\n",
       "    </tr>\n",
       "    <tr>\n",
       "      <th>2019-10-01 00:00:00-04:00</th>\n",
       "      <td>56.267502</td>\n",
       "      <td>73.492500</td>\n",
       "      <td>53.782501</td>\n",
       "      <td>73.412498</td>\n",
       "      <td>71.705307</td>\n",
       "      <td>6615331600</td>\n",
       "    </tr>\n",
       "    <tr>\n",
       "      <th>2020-01-01 00:00:00-05:00</th>\n",
       "      <td>74.059998</td>\n",
       "      <td>81.962502</td>\n",
       "      <td>53.152500</td>\n",
       "      <td>63.572498</td>\n",
       "      <td>62.280544</td>\n",
       "      <td>12233722000</td>\n",
       "    </tr>\n",
       "    <tr>\n",
       "      <th>2020-04-01 00:00:00-04:00</th>\n",
       "      <td>61.625000</td>\n",
       "      <td>93.095001</td>\n",
       "      <td>59.224998</td>\n",
       "      <td>91.199997</td>\n",
       "      <td>89.558624</td>\n",
       "      <td>9314610800</td>\n",
       "    </tr>\n",
       "    <tr>\n",
       "      <th>2020-07-01 00:00:00-04:00</th>\n",
       "      <td>91.279999</td>\n",
       "      <td>137.979996</td>\n",
       "      <td>89.144997</td>\n",
       "      <td>115.809998</td>\n",
       "      <td>114.033577</td>\n",
       "      <td>10975589400</td>\n",
       "    </tr>\n",
       "    <tr>\n",
       "      <th>2020-10-01 00:00:00-04:00</th>\n",
       "      <td>117.639999</td>\n",
       "      <td>138.789993</td>\n",
       "      <td>107.320000</td>\n",
       "      <td>132.690002</td>\n",
       "      <td>130.890228</td>\n",
       "      <td>7339933400</td>\n",
       "    </tr>\n",
       "    <tr>\n",
       "      <th>2021-01-01 00:00:00-05:00</th>\n",
       "      <td>133.520004</td>\n",
       "      <td>145.089996</td>\n",
       "      <td>116.209999</td>\n",
       "      <td>122.150002</td>\n",
       "      <td>120.701057</td>\n",
       "      <td>6724535800</td>\n",
       "    </tr>\n",
       "    <tr>\n",
       "      <th>2021-04-01 00:00:00-04:00</th>\n",
       "      <td>123.660004</td>\n",
       "      <td>137.410004</td>\n",
       "      <td>122.250000</td>\n",
       "      <td>136.960007</td>\n",
       "      <td>135.537628</td>\n",
       "      <td>5208382400</td>\n",
       "    </tr>\n",
       "    <tr>\n",
       "      <th>2021-07-01 00:00:00-04:00</th>\n",
       "      <td>136.600006</td>\n",
       "      <td>157.259995</td>\n",
       "      <td>135.759995</td>\n",
       "      <td>141.500000</td>\n",
       "      <td>140.268326</td>\n",
       "      <td>5178413000</td>\n",
       "    </tr>\n",
       "    <tr>\n",
       "      <th>2021-10-01 00:00:00-04:00</th>\n",
       "      <td>141.899994</td>\n",
       "      <td>182.130005</td>\n",
       "      <td>138.270004</td>\n",
       "      <td>177.570007</td>\n",
       "      <td>176.288071</td>\n",
       "      <td>5700874900</td>\n",
       "    </tr>\n",
       "    <tr>\n",
       "      <th>2022-01-01 00:00:00-05:00</th>\n",
       "      <td>177.830002</td>\n",
       "      <td>182.940002</td>\n",
       "      <td>150.100006</td>\n",
       "      <td>174.610001</td>\n",
       "      <td>173.602448</td>\n",
       "      <td>5916762400</td>\n",
       "    </tr>\n",
       "    <tr>\n",
       "      <th>2022-04-01 00:00:00-04:00</th>\n",
       "      <td>174.029999</td>\n",
       "      <td>178.490005</td>\n",
       "      <td>129.039993</td>\n",
       "      <td>136.720001</td>\n",
       "      <td>136.104279</td>\n",
       "      <td>5837935700</td>\n",
       "    </tr>\n",
       "    <tr>\n",
       "      <th>2022-07-01 00:00:00-04:00</th>\n",
       "      <td>136.039993</td>\n",
       "      <td>176.149994</td>\n",
       "      <td>135.660004</td>\n",
       "      <td>138.199997</td>\n",
       "      <td>137.779739</td>\n",
       "      <td>5042087800</td>\n",
       "    </tr>\n",
       "    <tr>\n",
       "      <th>2022-10-01 00:00:00-04:00</th>\n",
       "      <td>138.210007</td>\n",
       "      <td>157.500000</td>\n",
       "      <td>125.870003</td>\n",
       "      <td>129.929993</td>\n",
       "      <td>129.714813</td>\n",
       "      <td>5268645000</td>\n",
       "    </tr>\n",
       "  </tbody>\n",
       "</table>\n",
       "</div>"
      ],
      "text/plain": [
       "                                 Open        High         Low       Close  \\\n",
       "Date                                                                        \n",
       "2019-01-01 00:00:00-05:00   38.722500   49.422501   35.500000   47.487499   \n",
       "2019-04-01 00:00:00-04:00   47.910000   53.827499   42.567501   49.480000   \n",
       "2019-07-01 00:00:00-04:00   50.792500   56.605000   48.145000   55.992500   \n",
       "2019-10-01 00:00:00-04:00   56.267502   73.492500   53.782501   73.412498   \n",
       "2020-01-01 00:00:00-05:00   74.059998   81.962502   53.152500   63.572498   \n",
       "2020-04-01 00:00:00-04:00   61.625000   93.095001   59.224998   91.199997   \n",
       "2020-07-01 00:00:00-04:00   91.279999  137.979996   89.144997  115.809998   \n",
       "2020-10-01 00:00:00-04:00  117.639999  138.789993  107.320000  132.690002   \n",
       "2021-01-01 00:00:00-05:00  133.520004  145.089996  116.209999  122.150002   \n",
       "2021-04-01 00:00:00-04:00  123.660004  137.410004  122.250000  136.960007   \n",
       "2021-07-01 00:00:00-04:00  136.600006  157.259995  135.759995  141.500000   \n",
       "2021-10-01 00:00:00-04:00  141.899994  182.130005  138.270004  177.570007   \n",
       "2022-01-01 00:00:00-05:00  177.830002  182.940002  150.100006  174.610001   \n",
       "2022-04-01 00:00:00-04:00  174.029999  178.490005  129.039993  136.720001   \n",
       "2022-07-01 00:00:00-04:00  136.039993  176.149994  135.660004  138.199997   \n",
       "2022-10-01 00:00:00-04:00  138.210007  157.500000  125.870003  129.929993   \n",
       "\n",
       "                            Adj Close       Volume  \n",
       "Date                                                \n",
       "2019-01-01 00:00:00-05:00   45.833786   7806437600  \n",
       "2019-04-01 00:00:00-04:00   47.961716   7043172000  \n",
       "2019-07-01 00:00:00-04:00   54.483391   6790001600  \n",
       "2019-10-01 00:00:00-04:00   71.705307   6615331600  \n",
       "2020-01-01 00:00:00-05:00   62.280544  12233722000  \n",
       "2020-04-01 00:00:00-04:00   89.558624   9314610800  \n",
       "2020-07-01 00:00:00-04:00  114.033577  10975589400  \n",
       "2020-10-01 00:00:00-04:00  130.890228   7339933400  \n",
       "2021-01-01 00:00:00-05:00  120.701057   6724535800  \n",
       "2021-04-01 00:00:00-04:00  135.537628   5208382400  \n",
       "2021-07-01 00:00:00-04:00  140.268326   5178413000  \n",
       "2021-10-01 00:00:00-04:00  176.288071   5700874900  \n",
       "2022-01-01 00:00:00-05:00  173.602448   5916762400  \n",
       "2022-04-01 00:00:00-04:00  136.104279   5837935700  \n",
       "2022-07-01 00:00:00-04:00  137.779739   5042087800  \n",
       "2022-10-01 00:00:00-04:00  129.714813   5268645000  "
      ]
     },
     "execution_count": 19,
     "metadata": {},
     "output_type": "execute_result"
    }
   ],
   "source": [
    "#print(len(data))   # 16  (2019-01-01 <-> 2023-01-01 => 48 months with interval of 3 months = 16 months)\n",
    "#print(type(data))  # <class 'pandas.core.frame.DataFrame'>\n",
    "data"
   ]
  },
  {
   "cell_type": "code",
   "execution_count": 37,
   "id": "d80a48e7-fab5-44b4-aa91-66967dae0447",
   "metadata": {},
   "outputs": [
    {
     "name": "stdout",
     "output_type": "stream",
     "text": [
      "Index(['Open', 'High', 'Low', 'Close', 'Adj Close', 'Volume'], dtype='object')\n"
     ]
    }
   ],
   "source": [
    "print(data.keys())  # Keys of downloaded data"
   ]
  },
  {
   "cell_type": "markdown",
   "id": "b1879e15-3288-4014-b643-acc4ee8cb835",
   "metadata": {},
   "source": [
    "<h3>Plotting in different styles with Matplotlib library</h3>\n",
    "<h4>~Line Chart</h4>\n",
    "There are several in-ready styles for <i>matplotlib</i> library that can be used easily such as:  \n",
    "<ul>\n",
    "  <li>bmh (Bayesian Methods for Hackers)</li>\n",
    "  <li>classic</li>\n",
    "  <li>dark_background</li>\n",
    "  <li>fast</li>\n",
    "  <li>fivethirtyeight</li>\n",
    "  <li>ggplot</li>\n",
    "  <li>grayscale</li>\n",
    "  <li>seaborn-v0_8-bright</li>\n",
    "  <li>seaborn-v0_8-colorblind</li>\n",
    "  <li>seaborn-v0_8-dark</li>\n",
    "  <li>seaborn-v0_8-dark-palette</li>\n",
    "  <li>seaborn-v0_8-darkgrid</li>\n",
    "  <li>seaborn-v0_8-deep</li>\n",
    "  <li>seaborn-v0_8-muted</li>\n",
    "  <li>seaborn-v0_8-notebook</li>\n",
    "  <li>seaborn-v0_8-paper</li>\n",
    "  <li>seaborn-v0_8-pastel</li>\n",
    "  <li>seaborn-v0_8-poster</li>\n",
    "  <li>seaborn-v0_8-talk</li>\n",
    "  <li>seaborn-v0_8-ticks</li>\n",
    "  <li>seaborn-v0_8-white</li>\n",
    "  <li>seaborn-v0_8-whitegrid</li>\n",
    "</ul>\n",
    "\n",
    "You can check in-line comments for more details about plotting style."
   ]
  },
  {
   "cell_type": "code",
   "execution_count": 84,
   "id": "aee1f45d-3159-4540-9572-09ffecc05100",
   "metadata": {},
   "outputs": [
    {
     "data": {
      "image/png": "[encoded data removed]",
      "text/plain": [
       "<Figure size 640x480 with 1 Axes>"
      ]
     },
     "metadata": {},
     "output_type": "display_data"
    }
   ],
   "source": [
    "# Plotting closing price of the stock with respect to time\n",
    "plt.style.use('dark_background')\n",
    "plt.plot(data['Close'])  \n",
    "# plt.plot(data['Close'],'-o')  # For marking every datapoint \n",
    "plt.xlabel('Year')\n",
    "plt.ylabel('Closing Price (USD)')\n",
    "plt.title(f'${symbol} Closing Price Chart for 2019-2023')\n",
    "plt.xticks(rotation=35)  # For readability of time labels in x-axis (rotated by 35 degrees)\n",
    "plt.grid(True)  # False for closing grids\n",
    "plt.savefig(\"figs/closingPrice_\"+str(symbol)+str(startDate[:5])+str(endDate[:4])+\".png\")  # Save plot as indicated directory with name specified\n",
    "plt.show()"
   ]
  },
  {
   "cell_type": "markdown",
   "id": "b17e419e-d362-43be-9ce1-fe9b9acc2a0b",
   "metadata": {
    "tags": []
   },
   "source": [
    "<h4>~Bar Plot</h4>\n",
    "With bar plot, trade volumes with respect to time is reflected on the graph. <br/>\n",
    "Built-in bar function of <i>matplotlib</i> library has several parameters. Color and width parameter is used to increase clearness."
   ]
  },
  {
   "cell_type": "code",
   "execution_count": 118,
   "id": "bc234291-6d42-44e0-b1c8-e51395e3073b",
   "metadata": {},
   "outputs": [
    {
     "data": {
      "image/png": "[encoded data removed]",
      "text/plain": [
       "<Figure size 832x572 with 1 Axes>"
      ]
     },
     "metadata": {},
     "output_type": "display_data"
    }
   ],
   "source": [
    "# Plot trading volume of stock in time\n",
    "plt.bar(data.index, data['Volume'], color='black', width=4.5)\n",
    "plt.xlabel('Year')\n",
    "plt.ylabel('Trade Volume (USD)')\n",
    "plt.title(f'${symbol} Trade Volume in 2019-2023')\n",
    "plt.savefig(\"figs/tradeVolume_\"+str(symbol)+str(startDate[:5])+str(endDate[:4])+\".png\")  # Save plot as indicated directory with name specified\n",
    "plt.show()"
   ]
  },
  {
   "cell_type": "markdown",
   "id": "35154919-6c5f-46d2-bb24-712044a32c28",
   "metadata": {},
   "source": [
    "<h4>~Scatter Plot</h4>"
   ]
  },
  {
   "cell_type": "code",
   "execution_count": null,
   "id": "e3c39cf2-ea19-44fe-bb26-60da350ea427",
   "metadata": {},
   "outputs": [],
   "source": []
  },
  {
   "cell_type": "markdown",
   "id": "884995c8-8839-460c-a02b-7ef5482eba7c",
   "metadata": {},
   "source": [
    "<h4>~Area Plot</h4>"
   ]
  },
  {
   "cell_type": "code",
   "execution_count": null,
   "id": "ce97bc62-3fea-4572-b85a-b6f86214b39a",
   "metadata": {},
   "outputs": [],
   "source": []
  },
  {
   "cell_type": "markdown",
   "id": "f401ee4a-1f45-47a6-940b-593ede870cb9",
   "metadata": {},
   "source": [
    "<h4>~Histogram</h4>"
   ]
  },
  {
   "cell_type": "code",
   "execution_count": null,
   "id": "0707d5a3-a52e-4449-a7a5-a54a3a6d9670",
   "metadata": {},
   "outputs": [],
   "source": []
  },
  {
   "cell_type": "markdown",
   "id": "0a2fb359-7ec3-4e80-8e21-2c2689cd30b0",
   "metadata": {},
   "source": [
    "<h4>~Pie Chart</h4>"
   ]
  },
  {
   "cell_type": "code",
   "execution_count": null,
   "id": "26e97204-847e-4978-afb5-41fe5f404b4b",
   "metadata": {
    "tags": []
   },
   "outputs": [],
   "source": []
  },
  {
   "cell_type": "markdown",
   "id": "e7a80266-a779-486c-8f38-494c7e253ebe",
   "metadata": {},
   "source": [
    "<h4>~Heatmap</h4>"
   ]
  },
  {
   "cell_type": "code",
   "execution_count": null,
   "id": "f6a42af2-2a74-4454-9705-a6b535bccb3e",
   "metadata": {},
   "outputs": [],
   "source": []
  }
 ],
 "metadata": {
  "kernelspec": {
   "display_name": "default:Python",
   "language": "python",
   "name": "conda-env-default-py"
  },
  "language_info": {
   "codemirror_mode": {
    "name": "ipython",
    "version": 3
   },
   "file_extension": ".py",
   "mimetype": "text/x-python",
   "name": "python",
   "nbconvert_exporter": "python",
   "pygments_lexer": "ipython3",
   "version": "3.9.13"
  }
 },
 "nbformat": 4,
 "nbformat_minor": 5
}
